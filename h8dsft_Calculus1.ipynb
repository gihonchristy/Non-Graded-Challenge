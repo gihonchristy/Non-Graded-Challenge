{
  "nbformat": 4,
  "nbformat_minor": 0,
  "metadata": {
    "colab": {
      "name": "h8dsft_Calculus1.ipynb",
      "provenance": [],
      "collapsed_sections": []
    },
    "kernelspec": {
      "name": "python3",
      "display_name": "Python 3"
    },
    "language_info": {
      "name": "python"
    }
  },
  "cells": [
    {
      "cell_type": "markdown",
      "source": [
        "#Non Graded Challenge 7"
      ],
      "metadata": {
        "id": "LrVd4Xgl8Ss3"
      }
    },
    {
      "cell_type": "markdown",
      "source": [
        "- Nama: Gihon Christy\n",
        "- Program: FTDS Batch 14"
      ],
      "metadata": {
        "id": "5tYZdrq38ZHR"
      }
    },
    {
      "cell_type": "markdown",
      "source": [
        "**Saya akan mengerjakan NGC7 dengan tema kalkulus yang bersumber dari: https://github.com/ardhiraka/FSDS_Guidelines/blob/master/p0/w2/assignments/NG7.md**"
      ],
      "metadata": {
        "id": "93mkasps8mbG"
      }
    },
    {
      "cell_type": "markdown",
      "source": [
        "##Carilah derivative dari sebuah fungsi: (lih. sumber)"
      ],
      "metadata": {
        "id": "uAjBD-ge9DJT"
      }
    },
    {
      "cell_type": "code",
      "source": [
        "#Mengimpor semua libraries yang akan digunakan\n",
        "import numpy as np\n",
        "import sympy as sy"
      ],
      "metadata": {
        "id": "UYtcWXxe9Gfr"
      },
      "execution_count": 1,
      "outputs": []
    },
    {
      "cell_type": "code",
      "source": [
        "#Memasukan fungsi ke dalam notebook\n",
        "#Langkah pertama memasukan symbols variabel dalam fungsi dengan bantuan sympy\n",
        "#Selanjutnya memasukan fungsi-fungsi yang akan dikerjakan"
      ],
      "metadata": {
        "id": "n-3ousmO9xmB"
      },
      "execution_count": 2,
      "outputs": []
    },
    {
      "cell_type": "code",
      "source": [
        "x = sy.symbols('x')\n",
        "x"
      ],
      "metadata": {
        "colab": {
          "base_uri": "https://localhost:8080/",
          "height": 39
        },
        "id": "0UpwhlbA-R2s",
        "outputId": "6cbba8ad-6d27-42b8-924e-4533ebc1daa3"
      },
      "execution_count": 6,
      "outputs": [
        {
          "output_type": "execute_result",
          "data": {
            "text/plain": [
              "x"
            ],
            "text/latex": "$\\displaystyle x$"
          },
          "metadata": {},
          "execution_count": 6
        }
      ]
    },
    {
      "cell_type": "code",
      "source": [
        "f1 = x**2 + 2*x + 1\n",
        "f2 = 4*x**3 + 3*x**2 + 2*x -1\n",
        "\n",
        "f1"
      ],
      "metadata": {
        "colab": {
          "base_uri": "https://localhost:8080/",
          "height": 39
        },
        "id": "nECm619R-RHO",
        "outputId": "1b405ed1-d0c9-43b5-e207-7f284e8c5710"
      },
      "execution_count": 14,
      "outputs": [
        {
          "output_type": "execute_result",
          "data": {
            "text/plain": [
              "x**2 + 2*x + 1"
            ],
            "text/latex": "$\\displaystyle x^{2} + 2 x + 1$"
          },
          "metadata": {},
          "execution_count": 14
        }
      ]
    },
    {
      "cell_type": "code",
      "source": [
        "f2"
      ],
      "metadata": {
        "colab": {
          "base_uri": "https://localhost:8080/",
          "height": 39
        },
        "id": "MFaFWrLQ_Ugq",
        "outputId": "57ae6a20-4d75-45ce-ff14-83c155886a7e"
      },
      "execution_count": 15,
      "outputs": [
        {
          "output_type": "execute_result",
          "data": {
            "text/plain": [
              "4*x**3 + 3*x**2 + 2*x - 1"
            ],
            "text/latex": "$\\displaystyle 4 x^{3} + 3 x^{2} + 2 x - 1$"
          },
          "metadata": {},
          "execution_count": 15
        }
      ]
    },
    {
      "cell_type": "markdown",
      "source": [
        "**1. Derivative Fungsi pertama (f1)**"
      ],
      "metadata": {
        "id": "9XHxYCk4_0oU"
      }
    },
    {
      "cell_type": "code",
      "execution_count": 16,
      "metadata": {
        "colab": {
          "base_uri": "https://localhost:8080/",
          "height": 39
        },
        "id": "XMcf6BfG7rIV",
        "outputId": "60ed6a8e-52f1-484c-d3ea-30578a24e56e"
      },
      "outputs": [
        {
          "output_type": "execute_result",
          "data": {
            "text/plain": [
              "2*x + 2"
            ],
            "text/latex": "$\\displaystyle 2 x + 2$"
          },
          "metadata": {},
          "execution_count": 16
        }
      ],
      "source": [
        "# Turunan dengan sympy cara 1\n",
        "sy.diff(f1)"
      ]
    },
    {
      "cell_type": "code",
      "source": [
        "# Turunan cara 2\n",
        "df1 = f1.diff()\n",
        "df1"
      ],
      "metadata": {
        "colab": {
          "base_uri": "https://localhost:8080/",
          "height": 39
        },
        "id": "x-tr6eT1AV5L",
        "outputId": "3aaa8030-9cad-4b22-d6f5-5c4144b70f65"
      },
      "execution_count": 18,
      "outputs": [
        {
          "output_type": "execute_result",
          "data": {
            "text/plain": [
              "2*x + 2"
            ],
            "text/latex": "$\\displaystyle 2 x + 2$"
          },
          "metadata": {},
          "execution_count": 18
        }
      ]
    },
    {
      "cell_type": "code",
      "source": [
        "# Turunan numerik dengan numpy\n",
        "x = np.linspace(0,10,10)\n",
        "y = x**2 + 2*x + 1"
      ],
      "metadata": {
        "id": "3g81QsJIAntr"
      },
      "execution_count": 19,
      "outputs": []
    },
    {
      "cell_type": "code",
      "source": [
        "x"
      ],
      "metadata": {
        "colab": {
          "base_uri": "https://localhost:8080/"
        },
        "id": "QgzcHsDaBUy5",
        "outputId": "1a2aa5b6-e676-4d55-87fb-1fecea8f10a4"
      },
      "execution_count": 20,
      "outputs": [
        {
          "output_type": "execute_result",
          "data": {
            "text/plain": [
              "array([ 0.        ,  1.11111111,  2.22222222,  3.33333333,  4.44444444,\n",
              "        5.55555556,  6.66666667,  7.77777778,  8.88888889, 10.        ])"
            ]
          },
          "metadata": {},
          "execution_count": 20
        }
      ]
    },
    {
      "cell_type": "code",
      "source": [
        "y"
      ],
      "metadata": {
        "colab": {
          "base_uri": "https://localhost:8080/"
        },
        "id": "VweGWtBjBVvX",
        "outputId": "b10176b2-9ded-4364-c223-968334d8fdf9"
      },
      "execution_count": 21,
      "outputs": [
        {
          "output_type": "execute_result",
          "data": {
            "text/plain": [
              "array([  1.        ,   4.45679012,  10.38271605,  18.77777778,\n",
              "        29.64197531,  42.97530864,  58.77777778,  77.04938272,\n",
              "        97.79012346, 121.        ])"
            ]
          },
          "metadata": {},
          "execution_count": 21
        }
      ]
    },
    {
      "cell_type": "code",
      "source": [
        "df_1 = np.diff(y)/np.diff(x)\n",
        "#atau\n",
        "df_2 = np.gradient(y,x)"
      ],
      "metadata": {
        "id": "XiRL-pAYBYxQ"
      },
      "execution_count": 22,
      "outputs": []
    },
    {
      "cell_type": "code",
      "source": [
        "df_1"
      ],
      "metadata": {
        "colab": {
          "base_uri": "https://localhost:8080/"
        },
        "id": "D6P1437tCVOX",
        "outputId": "481fbc0d-fb12-4ea2-b715-c9904f2e0da0"
      },
      "execution_count": 23,
      "outputs": [
        {
          "output_type": "execute_result",
          "data": {
            "text/plain": [
              "array([ 3.11111111,  5.33333333,  7.55555556,  9.77777778, 12.        ,\n",
              "       14.22222222, 16.44444444, 18.66666667, 20.88888889])"
            ]
          },
          "metadata": {},
          "execution_count": 23
        }
      ]
    },
    {
      "cell_type": "code",
      "source": [
        "df_2"
      ],
      "metadata": {
        "colab": {
          "base_uri": "https://localhost:8080/"
        },
        "id": "7_JkfEH7CW0_",
        "outputId": "6e65f020-551a-4057-bb1e-6799682a64d0"
      },
      "execution_count": 24,
      "outputs": [
        {
          "output_type": "execute_result",
          "data": {
            "text/plain": [
              "array([ 3.11111111,  4.22222222,  6.44444444,  8.66666667, 10.88888889,\n",
              "       13.11111111, 15.33333333, 17.55555556, 19.77777778, 20.88888889])"
            ]
          },
          "metadata": {},
          "execution_count": 24
        }
      ]
    },
    {
      "cell_type": "code",
      "source": [
        "# Visualisasi fungsi turunan (sebagai latihan)\n",
        "import matplotlib.pyplot as plt"
      ],
      "metadata": {
        "id": "uGZ2pjyZCYXe"
      },
      "execution_count": 25,
      "outputs": []
    },
    {
      "cell_type": "code",
      "source": [
        "plt.plot(x,y,color='r')"
      ],
      "metadata": {
        "colab": {
          "base_uri": "https://localhost:8080/",
          "height": 282
        },
        "id": "THq4HucGCxrz",
        "outputId": "2f384e77-3c6d-4b71-8b3a-42b8da4575b3"
      },
      "execution_count": 30,
      "outputs": [
        {
          "output_type": "execute_result",
          "data": {
            "text/plain": [
              "[<matplotlib.lines.Line2D at 0x7f9ff1117bd0>]"
            ]
          },
          "metadata": {},
          "execution_count": 30
        },
        {
          "output_type": "display_data",
          "data": {
            "text/plain": [
              "<Figure size 432x288 with 1 Axes>"
            ],
            "image/png": "[encoded data removed]"
          },
          "metadata": {
            "needs_background": "light"
          }
        }
      ]
    },
    {
      "cell_type": "code",
      "source": [
        "plt.plot(x[1:],df_1, color='b')"
      ],
      "metadata": {
        "colab": {
          "base_uri": "https://localhost:8080/",
          "height": 282
        },
        "id": "SklTQxJZC231",
        "outputId": "c8c20e97-6581-40ff-c80a-be84002c564a"
      },
      "execution_count": 31,
      "outputs": [
        {
          "output_type": "execute_result",
          "data": {
            "text/plain": [
              "[<matplotlib.lines.Line2D at 0x7f9ff1107a50>]"
            ]
          },
          "metadata": {},
          "execution_count": 31
        },
        {
          "output_type": "display_data",
          "data": {
            "text/plain": [
              "<Figure size 432x288 with 1 Axes>"
            ],
            "image/png": "[encoded data removed]"
          },
          "metadata": {
            "needs_background": "light"
          }
        }
      ]
    },
    {
      "cell_type": "code",
      "source": [
        "plt.plot(x,df_2)"
      ],
      "metadata": {
        "colab": {
          "base_uri": "https://localhost:8080/",
          "height": 282
        },
        "id": "BoYXtbK1DACm",
        "outputId": "2bd13493-cf59-4c50-e60a-98f1e86735dd"
      },
      "execution_count": 29,
      "outputs": [
        {
          "output_type": "execute_result",
          "data": {
            "text/plain": [
              "[<matplotlib.lines.Line2D at 0x7f9ff11e2fd0>]"
            ]
          },
          "metadata": {},
          "execution_count": 29
        },
        {
          "output_type": "display_data",
          "data": {
            "text/plain": [
              "<Figure size 432x288 with 1 Axes>"
            ],
            "image/png": "[encoded data removed]"
          },
          "metadata": {
            "needs_background": "light"
          }
        }
      ]
    },
    {
      "cell_type": "markdown",
      "source": [
        "**2. Derivative Fungsi Kedua (f2)"
      ],
      "metadata": {
        "id": "q8XM9vbTQiqe"
      }
    },
    {
      "cell_type": "code",
      "source": [
        "# Turunan dengan sympy cara 1\n",
        "sy.diff(f2)"
      ],
      "metadata": {
        "colab": {
          "base_uri": "https://localhost:8080/",
          "height": 39
        },
        "id": "MB9Ue35AQiW3",
        "outputId": "3334a470-0081-459e-ab9a-15c2baa1d832"
      },
      "execution_count": 32,
      "outputs": [
        {
          "output_type": "execute_result",
          "data": {
            "text/plain": [
              "12*x**2 + 6*x + 2"
            ],
            "text/latex": "$\\displaystyle 12 x^{2} + 6 x + 2$"
          },
          "metadata": {},
          "execution_count": 32
        }
      ]
    },
    {
      "cell_type": "code",
      "source": [
        "# Turunan cara 2\n",
        "df2 = f2.diff()\n",
        "df2"
      ],
      "metadata": {
        "colab": {
          "base_uri": "https://localhost:8080/",
          "height": 39
        },
        "id": "yVBpvex1DLYh",
        "outputId": "408a2e2e-0007-436d-ec1d-fddba5ee2094"
      },
      "execution_count": 34,
      "outputs": [
        {
          "output_type": "execute_result",
          "data": {
            "text/plain": [
              "12*x**2 + 6*x + 2"
            ],
            "text/latex": "$\\displaystyle 12 x^{2} + 6 x + 2$"
          },
          "metadata": {},
          "execution_count": 34
        }
      ]
    },
    {
      "cell_type": "code",
      "source": [
        "# Turunan numerik dengan numpy\n",
        "X = np.linspace(0,10,10)\n",
        "Y = 4*x**3 + 3*x**2 + 2*x -1"
      ],
      "metadata": {
        "id": "A4ofdorvQ_1i"
      },
      "execution_count": 39,
      "outputs": []
    },
    {
      "cell_type": "code",
      "source": [
        "X"
      ],
      "metadata": {
        "colab": {
          "base_uri": "https://localhost:8080/"
        },
        "id": "loxaavtpRhOW",
        "outputId": "3ce43efd-41fb-4b60-e470-14ee4c6577a6"
      },
      "execution_count": 40,
      "outputs": [
        {
          "output_type": "execute_result",
          "data": {
            "text/plain": [
              "array([ 0.        ,  1.11111111,  2.22222222,  3.33333333,  4.44444444,\n",
              "        5.55555556,  6.66666667,  7.77777778,  8.88888889, 10.        ])"
            ]
          },
          "metadata": {},
          "execution_count": 40
        }
      ]
    },
    {
      "cell_type": "code",
      "source": [
        "Y"
      ],
      "metadata": {
        "colab": {
          "base_uri": "https://localhost:8080/"
        },
        "id": "VKw-p5H4RiMJ",
        "outputId": "10e577ec-7abe-4c00-e52b-0391dce8fb74"
      },
      "execution_count": 41,
      "outputs": [
        {
          "output_type": "execute_result",
          "data": {
            "text/plain": [
              "array([-1.00000000e+00,  1.04128944e+01,  6.21550069e+01,  1.87148148e+02,\n",
              "        4.18314129e+02,  7.88574760e+02,  1.33085185e+03,  2.07806722e+03,\n",
              "        3.06314266e+03,  4.31900000e+03])"
            ]
          },
          "metadata": {},
          "execution_count": 41
        }
      ]
    },
    {
      "cell_type": "code",
      "source": [
        "df__1 = np.diff(Y)/np.diff(X)\n",
        "#atau\n",
        "df__2 = np.gradient(Y,X)"
      ],
      "metadata": {
        "id": "nfixqD8VRi14"
      },
      "execution_count": 42,
      "outputs": []
    },
    {
      "cell_type": "code",
      "source": [
        "df__1"
      ],
      "metadata": {
        "colab": {
          "base_uri": "https://localhost:8080/"
        },
        "id": "iMY1b_MXR6ei",
        "outputId": "329e4fd1-da7d-469c-e37c-d908c860ff87"
      },
      "execution_count": 43,
      "outputs": [
        {
          "output_type": "execute_result",
          "data": {
            "text/plain": [
              "array([  10.27160494,   46.56790123,  112.49382716,  208.04938272,\n",
              "        333.2345679 ,  488.04938272,  672.49382716,  886.56790123,\n",
              "       1130.27160494])"
            ]
          },
          "metadata": {},
          "execution_count": 43
        }
      ]
    },
    {
      "cell_type": "code",
      "source": [
        "df__2"
      ],
      "metadata": {
        "colab": {
          "base_uri": "https://localhost:8080/"
        },
        "id": "Rzv0hL8zSGmE",
        "outputId": "a834a465-d6ee-4c88-cf2e-b86a99654486"
      },
      "execution_count": 44,
      "outputs": [
        {
          "output_type": "execute_result",
          "data": {
            "text/plain": [
              "array([  10.27160494,   28.41975309,   79.5308642 ,  160.27160494,\n",
              "        270.64197531,  410.64197531,  580.27160494,  779.5308642 ,\n",
              "       1008.41975309, 1130.27160494])"
            ]
          },
          "metadata": {},
          "execution_count": 44
        }
      ]
    },
    {
      "cell_type": "code",
      "source": [
        "#Visualisasi fungsi turunan\n",
        "plt.plot(X,Y)"
      ],
      "metadata": {
        "colab": {
          "base_uri": "https://localhost:8080/",
          "height": 282
        },
        "id": "DEciOYoRSHlU",
        "outputId": "b89f9172-0ed1-4f9b-bdcd-2905ba3a9341"
      },
      "execution_count": 45,
      "outputs": [
        {
          "output_type": "execute_result",
          "data": {
            "text/plain": [
              "[<matplotlib.lines.Line2D at 0x7f9ff0f4ef50>]"
            ]
          },
          "metadata": {},
          "execution_count": 45
        },
        {
          "output_type": "display_data",
          "data": {
            "text/plain": [
              "<Figure size 432x288 with 1 Axes>"
            ],
            "image/png": "[encoded data removed]"
          },
          "metadata": {
            "needs_background": "light"
          }
        }
      ]
    },
    {
      "cell_type": "code",
      "source": [
        "plt.plot(X[1:],df__1)"
      ],
      "metadata": {
        "colab": {
          "base_uri": "https://localhost:8080/",
          "height": 282
        },
        "id": "BUfrEzTFST24",
        "outputId": "8efd1a42-60a9-448f-f79d-728bab37a1b3"
      },
      "execution_count": 46,
      "outputs": [
        {
          "output_type": "execute_result",
          "data": {
            "text/plain": [
              "[<matplotlib.lines.Line2D at 0x7f9ff0ec8c10>]"
            ]
          },
          "metadata": {},
          "execution_count": 46
        },
        {
          "output_type": "display_data",
          "data": {
            "text/plain": [
              "<Figure size 432x288 with 1 Axes>"
            ],
            "image/png": "[encoded data removed]"
          },
          "metadata": {
            "needs_background": "light"
          }
        }
      ]
    },
    {
      "cell_type": "code",
      "source": [
        "plt.plot(X,df__2)"
      ],
      "metadata": {
        "colab": {
          "base_uri": "https://localhost:8080/",
          "height": 282
        },
        "id": "COL_ViY3Sdb4",
        "outputId": "41fc1bd1-292c-48cc-f789-c9c660774f83"
      },
      "execution_count": 47,
      "outputs": [
        {
          "output_type": "execute_result",
          "data": {
            "text/plain": [
              "[<matplotlib.lines.Line2D at 0x7f9ff0e03d50>]"
            ]
          },
          "metadata": {},
          "execution_count": 47
        },
        {
          "output_type": "display_data",
          "data": {
            "text/plain": [
              "<Figure size 432x288 with 1 Axes>"
            ],
            "image/png": "[encoded data removed]"
          },
          "metadata": {
            "needs_background": "light"
          }
        }
      ]
    },
    {
      "cell_type": "code",
      "source": [
        ""
      ],
      "metadata": {
        "id": "tsfx5bT8SjBk"
      },
      "execution_count": null,
      "outputs": []
    }
  ]
}