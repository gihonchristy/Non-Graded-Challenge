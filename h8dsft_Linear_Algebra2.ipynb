{
  "nbformat": 4,
  "nbformat_minor": 0,
  "metadata": {
    "colab": {
      "name": "h8dsft_Linear_Algebra2.ipynb",
      "provenance": [],
      "collapsed_sections": []
    },
    "kernelspec": {
      "name": "python3",
      "display_name": "Python 3"
    },
    "language_info": {
      "name": "python"
    }
  },
  "cells": [
    {
      "cell_type": "markdown",
      "source": [
        "# Non Graded Challenge 5"
      ],
      "metadata": {
        "id": "qtvPh50W5Xqq"
      }
    },
    {
      "cell_type": "markdown",
      "source": [
        "- Nama: Gihon Christy\n",
        "- Program: FTDS batch 14"
      ],
      "metadata": {
        "id": "Lp-wV-kH5bQt"
      }
    },
    {
      "cell_type": "markdown",
      "source": [
        "Saya akan mengerjakan Non-graded challenge yang diambil dari sumber: https://github.com/ardhiraka/FSDS_Guidelines/blob/master/p0/w2/assignments/NG5.md"
      ],
      "metadata": {
        "id": "dvbkCSse5kK5"
      }
    },
    {
      "cell_type": "code",
      "source": [
        "# Mengimport semua libraries yang akan digunakan\n",
        "import numpy as np"
      ],
      "metadata": {
        "id": "mXNH8xKl7niM"
      },
      "execution_count": 2,
      "outputs": []
    },
    {
      "cell_type": "markdown",
      "source": [
        "**1. Membuat tensor dengan Python (Vektor lih. sumber)**"
      ],
      "metadata": {
        "id": "HBLD4vm15wy3"
      }
    },
    {
      "cell_type": "code",
      "execution_count": 8,
      "metadata": {
        "colab": {
          "base_uri": "https://localhost:8080/"
        },
        "id": "GjEcYvWp5Q9j",
        "outputId": "9a8afac8-b615-431c-db05-76fdc2f638c0"
      },
      "outputs": [
        {
          "output_type": "stream",
          "name": "stdout",
          "text": [
            "[[23 50]\n",
            " [ 7 12]] [[57 67]\n",
            " [99 43]]\n",
            "[[75 21]\n",
            " [57 12]] [[87 26]\n",
            " [18 84]]\n"
          ]
        }
      ],
      "source": [
        "# Memasukan semua Matrix ke dalam python terlebih dahulu\n",
        "M = np.array([[23, 50],\n",
        "             [7, 12]])\n",
        "N = np.array([[57, 67],\n",
        "              [99, 43]])\n",
        "O = np.array([[75, 21],\n",
        "             [57, 12]])\n",
        "P = np.array([[87, 26],\n",
        "             [18, 84]])\n",
        "print(M,N)\n",
        "print(O,P)"
      ]
    },
    {
      "cell_type": "code",
      "source": [
        "Tensor = np.array([M,N,O,P])\n",
        "Tensor"
      ],
      "metadata": {
        "colab": {
          "base_uri": "https://localhost:8080/"
        },
        "id": "TtPkzPRG9JRI",
        "outputId": "17920443-ca5d-4383-91d8-3a230aa0a084"
      },
      "execution_count": 21,
      "outputs": [
        {
          "output_type": "execute_result",
          "data": {
            "text/plain": [
              "array([[[23, 50],\n",
              "        [ 7, 12]],\n",
              "\n",
              "       [[57, 67],\n",
              "        [99, 43]],\n",
              "\n",
              "       [[75, 21],\n",
              "        [57, 12]],\n",
              "\n",
              "       [[87, 26],\n",
              "        [18, 84]]])"
            ]
          },
          "metadata": {},
          "execution_count": 21
        }
      ]
    },
    {
      "cell_type": "code",
      "source": [
        "print(Tensor.shape)\n",
        "print(Tensor)"
      ],
      "metadata": {
        "colab": {
          "base_uri": "https://localhost:8080/"
        },
        "id": "LcjFGjl49O7e",
        "outputId": "a348bebf-9b9e-4431-8963-088dcda2fb31"
      },
      "execution_count": 22,
      "outputs": [
        {
          "output_type": "stream",
          "name": "stdout",
          "text": [
            "(4, 2, 2)\n",
            "[[[23 50]\n",
            "  [ 7 12]]\n",
            "\n",
            " [[57 67]\n",
            "  [99 43]]\n",
            "\n",
            " [[75 21]\n",
            "  [57 12]]\n",
            "\n",
            " [[87 26]\n",
            "  [18 84]]]\n"
          ]
        }
      ]
    },
    {
      "cell_type": "markdown",
      "source": [
        "**2. Perkalian Matrix**"
      ],
      "metadata": {
        "id": "ORveNtsR_A5t"
      }
    },
    {
      "cell_type": "code",
      "source": [
        "a1 = np.array([[23, 50, 19],\n",
        "               [7, 12, 109],\n",
        "               [57, 67, 98]])\n",
        "a2 = np.array([17, 22, 19])\n",
        "\n",
        "print(a1,a2)\n",
        "print(a1.shape)\n",
        "print(a2.shape)\n",
        "\n",
        "# Jumlah kolom matrix a1 = jumlah baris matrix a2, sehingga dapat dikalikan dengan metode perkalian matrix aljabar linear"
      ],
      "metadata": {
        "colab": {
          "base_uri": "https://localhost:8080/"
        },
        "id": "YZjAQ56d9acj",
        "outputId": "bb280a2b-05bf-499f-9358-a1e31a091ca5"
      },
      "execution_count": 24,
      "outputs": [
        {
          "output_type": "stream",
          "name": "stdout",
          "text": [
            "[[ 23  50  19]\n",
            " [  7  12 109]\n",
            " [ 57  67  98]] [17 22 19]\n",
            "(3, 3)\n",
            "(3,)\n"
          ]
        }
      ]
    },
    {
      "cell_type": "code",
      "source": [
        "# perkalian matrix\n",
        "a1.dot(a2)"
      ],
      "metadata": {
        "colab": {
          "base_uri": "https://localhost:8080/"
        },
        "id": "6LHSLfh6_u3s",
        "outputId": "7e13047a-a26a-479e-8c27-c32fb6ed72b2"
      },
      "execution_count": 25,
      "outputs": [
        {
          "output_type": "execute_result",
          "data": {
            "text/plain": [
              "array([1852, 2454, 4305])"
            ]
          },
          "metadata": {},
          "execution_count": 25
        }
      ]
    },
    {
      "cell_type": "code",
      "source": [
        "# Hasil perkalian jika dikalikan dengan metode hadamart product\n",
        "a1*a2"
      ],
      "metadata": {
        "colab": {
          "base_uri": "https://localhost:8080/"
        },
        "id": "jS_-zkayAQYG",
        "outputId": "92ec4dcb-f23b-4309-cd4e-2e4ccf270470"
      },
      "execution_count": 27,
      "outputs": [
        {
          "output_type": "execute_result",
          "data": {
            "text/plain": [
              "array([[ 391, 1100,  361],\n",
              "       [ 119,  264, 2071],\n",
              "       [ 969, 1474, 1862]])"
            ]
          },
          "metadata": {},
          "execution_count": 27
        }
      ]
    },
    {
      "cell_type": "markdown",
      "source": [
        "**3. transpose, Inverse, dan Determinan**"
      ],
      "metadata": {
        "id": "Eb0fshzeAobB"
      }
    },
    {
      "cell_type": "code",
      "source": [
        "# Matrix dalam soal = a1\n",
        "a1"
      ],
      "metadata": {
        "colab": {
          "base_uri": "https://localhost:8080/"
        },
        "id": "DcJBkiypATNw",
        "outputId": "63d7a4fe-ae6f-4c21-a488-f3e046d57fa4"
      },
      "execution_count": 28,
      "outputs": [
        {
          "output_type": "execute_result",
          "data": {
            "text/plain": [
              "array([[ 23,  50,  19],\n",
              "       [  7,  12, 109],\n",
              "       [ 57,  67,  98]])"
            ]
          },
          "metadata": {},
          "execution_count": 28
        }
      ]
    },
    {
      "cell_type": "code",
      "source": [
        "L = a1\n",
        "L"
      ],
      "metadata": {
        "colab": {
          "base_uri": "https://localhost:8080/"
        },
        "id": "98M8ax-VBDT8",
        "outputId": "18f87724-a4c4-4340-c090-2d939f2f1e6c"
      },
      "execution_count": 30,
      "outputs": [
        {
          "output_type": "execute_result",
          "data": {
            "text/plain": [
              "array([[ 23,  50,  19],\n",
              "       [  7,  12, 109],\n",
              "       [ 57,  67,  98]])"
            ]
          },
          "metadata": {},
          "execution_count": 30
        }
      ]
    },
    {
      "cell_type": "code",
      "source": [
        "# Transpose\n",
        "L.T"
      ],
      "metadata": {
        "colab": {
          "base_uri": "https://localhost:8080/"
        },
        "id": "RK2SJIWpBJE0",
        "outputId": "c7d3b0a2-ea38-4413-8ff3-e65f856759d8"
      },
      "execution_count": 31,
      "outputs": [
        {
          "output_type": "execute_result",
          "data": {
            "text/plain": [
              "array([[ 23,   7,  57],\n",
              "       [ 50,  12,  67],\n",
              "       [ 19, 109,  98]])"
            ]
          },
          "metadata": {},
          "execution_count": 31
        }
      ]
    },
    {
      "cell_type": "code",
      "source": [
        "# Inverse\n",
        "L_inv = np.linalg.inv(L)\n",
        "L_inv"
      ],
      "metadata": {
        "colab": {
          "base_uri": "https://localhost:8080/"
        },
        "id": "ZUJ6osWOBVyy",
        "outputId": "767dc19b-824d-4ba0-8305-6a3141113b7e"
      },
      "execution_count": 32,
      "outputs": [
        {
          "output_type": "execute_result",
          "data": {
            "text/plain": [
              "array([[-0.0466485 , -0.02761451,  0.03975819],\n",
              "       [ 0.04208034,  0.00891552, -0.01807467],\n",
              "       [-0.00163692,  0.0099662 , -0.00056341]])"
            ]
          },
          "metadata": {},
          "execution_count": 32
        }
      ]
    },
    {
      "cell_type": "code",
      "source": [
        "# Pengecekan L_inv = invers dari matrix L, jika benar maka L * L inverse = matrix identitas\n",
        "L @ L_inv"
      ],
      "metadata": {
        "colab": {
          "base_uri": "https://localhost:8080/"
        },
        "id": "HR8OEjNxBmqH",
        "outputId": "e183d25e-ea1b-4004-dfc5-918e39a8588c"
      },
      "execution_count": 33,
      "outputs": [
        {
          "output_type": "execute_result",
          "data": {
            "text/plain": [
              "array([[1.00000000e+00, 1.90819582e-17, 1.32923186e-16],\n",
              "       [7.22078647e-17, 1.00000000e+00, 5.44269491e-17],\n",
              "       [6.73506390e-16, 1.97758476e-16, 1.00000000e+00]])"
            ]
          },
          "metadata": {},
          "execution_count": 33
        }
      ]
    },
    {
      "cell_type": "code",
      "source": [
        "np.round(L@L_inv)"
      ],
      "metadata": {
        "colab": {
          "base_uri": "https://localhost:8080/"
        },
        "id": "ShFfIGq-B79H",
        "outputId": "34f6bf73-0631-4c63-f9ed-24c4401dda1a"
      },
      "execution_count": 34,
      "outputs": [
        {
          "output_type": "execute_result",
          "data": {
            "text/plain": [
              "array([[1., 0., 0.],\n",
              "       [0., 1., 0.],\n",
              "       [0., 0., 1.]])"
            ]
          },
          "metadata": {},
          "execution_count": 34
        }
      ]
    },
    {
      "cell_type": "code",
      "source": [
        "# Determinant\n",
        "np.linalg.det(L)"
      ],
      "metadata": {
        "colab": {
          "base_uri": "https://localhost:8080/"
        },
        "id": "Egui9eE1CEgI",
        "outputId": "d06bc16e-9743-4b8b-fbaa-c6e554510419"
      },
      "execution_count": 35,
      "outputs": [
        {
          "output_type": "execute_result",
          "data": {
            "text/plain": [
              "131344.0000000002"
            ]
          },
          "metadata": {},
          "execution_count": 35
        }
      ]
    },
    {
      "cell_type": "code",
      "source": [
        ""
      ],
      "metadata": {
        "id": "i-80Q5LQCcxo"
      },
      "execution_count": null,
      "outputs": []
    }
  ]
}