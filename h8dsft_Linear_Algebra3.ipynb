{
  "nbformat": 4,
  "nbformat_minor": 0,
  "metadata": {
    "colab": {
      "name": "h8dsft_Linear_Algebra3.ipynb",
      "provenance": [],
      "collapsed_sections": []
    },
    "kernelspec": {
      "name": "python3",
      "display_name": "Python 3"
    },
    "language_info": {
      "name": "python"
    }
  },
  "cells": [
    {
      "cell_type": "markdown",
      "source": [
        "#Non Graded Challenge 6"
      ],
      "metadata": {
        "id": "u26ykZiUDjzT"
      }
    },
    {
      "cell_type": "markdown",
      "source": [
        "- Nama: Gihon Christy\n",
        "- Program: FTDS Batch 14"
      ],
      "metadata": {
        "id": "mylTNr6kDnsZ"
      }
    },
    {
      "cell_type": "markdown",
      "source": [
        "Saya akan mengerjakan non-graded challenge 6 dengan tema Eigendecomposition. Soal yang dikerjakan didapatkan dari sumber: https://github.com/ardhiraka/FSDS_Guidelines/blob/master/p0/w2/assignments/NG6.md"
      ],
      "metadata": {
        "id": "dMe2Kff7Dvl8"
      }
    },
    {
      "cell_type": "markdown",
      "source": [
        "##Apakah Matriks [1\\3] adalah eigenvector dari [1 -1\\6 -4]? Jika iya, berapakah eigen value-nya?"
      ],
      "metadata": {
        "id": "bYdT-PPSEEjQ"
      }
    },
    {
      "cell_type": "code",
      "source": [
        "# Input Library yang akan digunakan\n",
        "import numpy as np\n",
        "import matplotlib.pyplot as plt"
      ],
      "metadata": {
        "id": "zFl1nyVKFG9M"
      },
      "execution_count": 16,
      "outputs": []
    },
    {
      "cell_type": "code",
      "execution_count": 44,
      "metadata": {
        "colab": {
          "base_uri": "https://localhost:8080/"
        },
        "id": "RMV0BZ2JC7lf",
        "outputId": "b0fd5fd8-eef2-4d0a-99cb-850b48d61c17"
      },
      "outputs": [
        {
          "output_type": "execute_result",
          "data": {
            "text/plain": [
              "array([1, 3])"
            ]
          },
          "metadata": {},
          "execution_count": 44
        }
      ],
      "source": [
        "# Diduga Matriks A adalah eigenvector\n",
        "A = np.array([1, 3])\n",
        "A"
      ]
    },
    {
      "cell_type": "code",
      "source": [
        "A.shape"
      ],
      "metadata": {
        "colab": {
          "base_uri": "https://localhost:8080/"
        },
        "id": "0ST5YjhmFlsR",
        "outputId": "884f77b3-9458-438d-ec42-cc57c28c3486"
      },
      "execution_count": 45,
      "outputs": [
        {
          "output_type": "execute_result",
          "data": {
            "text/plain": [
              "(2,)"
            ]
          },
          "metadata": {},
          "execution_count": 45
        }
      ]
    },
    {
      "cell_type": "code",
      "source": [
        "# Diduga Matriks b adalah eigenmatriks\n",
        "B = np.array([[1, -1],\n",
        "              [6, -4]])\n",
        "B"
      ],
      "metadata": {
        "colab": {
          "base_uri": "https://localhost:8080/"
        },
        "id": "IfrtwjOvFpaz",
        "outputId": "db705eb4-4c0a-435b-a2a7-c6786b964ba0"
      },
      "execution_count": 42,
      "outputs": [
        {
          "output_type": "execute_result",
          "data": {
            "text/plain": [
              "array([[ 1, -1],\n",
              "       [ 6, -4]])"
            ]
          },
          "metadata": {},
          "execution_count": 42
        }
      ]
    },
    {
      "cell_type": "markdown",
      "source": [
        "**1. Apabila perkalian matriks BxA = nxA\n",
        ", maka jawaban adalah benar.**\n",
        "\n",
        "- n = bilangan skalar\n",
        "- nxA = matriks kelipatan ke-n dari matriks A"
      ],
      "metadata": {
        "id": "Wofhz4e8JuZX"
      }
    },
    {
      "cell_type": "code",
      "source": [
        "\n",
        "# Hasil jawaban dapat dibuktikan langsung dengan visualisai vektor menggunakan plot\n",
        "# Apabila vektor A searah dengan vektor BxA pada visualisasi, maka jawaban adalah benar\n",
        "\n",
        "# Pembuktian juga dapat dilakukan dengan rekonstruksi matriks\n"
      ],
      "metadata": {
        "id": "LTzIJ73SF6C7"
      },
      "execution_count": 20,
      "outputs": []
    },
    {
      "cell_type": "code",
      "source": [
        "# Perkalian\n",
        "c = B @ A\n",
        "c"
      ],
      "metadata": {
        "colab": {
          "base_uri": "https://localhost:8080/"
        },
        "id": "EFIS7eNEIAxL",
        "outputId": "6dbec06e-13ba-45e4-a6f9-6094d3d56585"
      },
      "execution_count": 46,
      "outputs": [
        {
          "output_type": "execute_result",
          "data": {
            "text/plain": [
              "array([-2, -6])"
            ]
          },
          "metadata": {},
          "execution_count": 46
        }
      ]
    },
    {
      "cell_type": "code",
      "source": [
        "C =np.array(c)\n",
        "C"
      ],
      "metadata": {
        "colab": {
          "base_uri": "https://localhost:8080/"
        },
        "id": "pSOi4UdKytxS",
        "outputId": "204a302e-6d82-4d1d-ddbc-15ddc89775a4"
      },
      "execution_count": 47,
      "outputs": [
        {
          "output_type": "execute_result",
          "data": {
            "text/plain": [
              "array([-2, -6])"
            ]
          },
          "metadata": {},
          "execution_count": 47
        }
      ]
    },
    {
      "cell_type": "code",
      "source": [
        "# Observasi Vektor C, apabila C = n x A, maka C / A = Vektor berisi 2 elemen yang sama\n",
        "C / A\n",
        "\n",
        "# Hasil yang didapat adalah (-2), maka vektor A adalah eigenvektor dari vektor B dengan eigenvalue = (-2)"
      ],
      "metadata": {
        "colab": {
          "base_uri": "https://localhost:8080/"
        },
        "id": "2kZeYwNXKdon",
        "outputId": "3aa049c8-7d9a-4bd8-e354-7c362455ce81"
      },
      "execution_count": 48,
      "outputs": [
        {
          "output_type": "execute_result",
          "data": {
            "text/plain": [
              "array([-2., -2.])"
            ]
          },
          "metadata": {},
          "execution_count": 48
        }
      ]
    },
    {
      "cell_type": "markdown",
      "source": [
        "**2. Visualisasi dengan plotting**\n",
        "- Bila eigenvector dan vektor A berubah ukuran tapi tidak berubah arah pada diagram garis, maka jawaban terbukti benar\n",
        "- Perubahan ukuran vektor tanpa perubahan arah disebut scaling, yang juga adalah salah satu ciri dari adanya eigenvektor dan eigenvalue."
      ],
      "metadata": {
        "id": "GqOuehBwua-U"
      }
    },
    {
      "cell_type": "code",
      "source": [
        "#Membuat fungsi untuk visualisasi\n",
        "def plot_vector2d(vector2d, origin=[0, 0], **options):\n",
        "    return plt.arrow(origin[0], origin[1], vector2d[0], vector2d[1],\n",
        "              head_width=0.2, head_length=0.3, length_includes_head=True,\n",
        "              **options)\n"
      ],
      "metadata": {
        "id": "XTFci5NzvlsM"
      },
      "execution_count": 49,
      "outputs": []
    },
    {
      "cell_type": "code",
      "source": [
        "#Plotting Vektor\n",
        "plot_vector2d(A, color='r')\n",
        "plot_vector2d(C, color='g')\n",
        "\n",
        "plt.axis([-10,10,-10,10])\n",
        "plt.grid()\n",
        "plt.show()"
      ],
      "metadata": {
        "colab": {
          "base_uri": "https://localhost:8080/",
          "height": 269
        },
        "id": "VDOzXRFcwr_t",
        "outputId": "371cd07e-e1f8-4f07-cdcb-c0d04903c24a"
      },
      "execution_count": 50,
      "outputs": [
        {
          "output_type": "display_data",
          "data": {
            "text/plain": [
              "<Figure size 432x288 with 1 Axes>"
            ],
            "image/png": "[encoded data removed]"
          },
          "metadata": {
            "needs_background": "light"
          }
        }
      ]
    },
    {
      "cell_type": "code",
      "source": [
        "#Berdasarkan visualisasi dapat dilihat vektor hanya berubah ukuran (-2 kali eigenvektor) dan dicerminkan pada sumbu negatif. Maka vektor B tersebut adalah eigenvektor"
      ],
      "metadata": {
        "id": "ZTPIH-Of5zsM"
      },
      "execution_count": 51,
      "outputs": []
    },
    {
      "cell_type": "markdown",
      "source": [
        "**3. Rekonstruksi Matriks**\n",
        "- Apabila dengan hasil yang didapat dari dekomposisi Matriks (eigen value, eigen vector) matrix awal dapat direkonstruksi kembali dengan tingkat kemiripan yang tinggi, maka jawaban terbukti benar."
      ],
      "metadata": {
        "id": "qmHQtluDz9Bg"
      }
    },
    {
      "cell_type": "code",
      "source": [
        "eig_val, eig_vec = np.linalg.eig(B)\n",
        "print(eig_val)\n",
        "print(eig_vec)"
      ],
      "metadata": {
        "colab": {
          "base_uri": "https://localhost:8080/"
        },
        "id": "_GmULOBfIF9b",
        "outputId": "7a4f3258-78e1-45db-93dd-f4f2249da6b2"
      },
      "execution_count": 34,
      "outputs": [
        {
          "output_type": "stream",
          "name": "stdout",
          "text": [
            "[-1. -2.]\n",
            "[[0.4472136  0.31622777]\n",
            " [0.89442719 0.9486833 ]]\n"
          ]
        }
      ]
    },
    {
      "cell_type": "code",
      "source": [
        "M_recons = eig_vec @ np.diag(eig_val) @ np.linalg.inv(eig_vec)\n",
        "M_recons"
      ],
      "metadata": {
        "colab": {
          "base_uri": "https://localhost:8080/"
        },
        "id": "XEj0_PUIIeR2",
        "outputId": "b0f7a82a-5aaa-4e24-b1c2-10f0f2d33035"
      },
      "execution_count": 41,
      "outputs": [
        {
          "output_type": "execute_result",
          "data": {
            "text/plain": [
              "array([[ 1., -1.],\n",
              "       [ 6., -4.]])"
            ]
          },
          "metadata": {},
          "execution_count": 41
        }
      ]
    },
    {
      "cell_type": "markdown",
      "source": [
        "##Kesimpulan"
      ],
      "metadata": {
        "id": "4gUa0VSS1L9q"
      }
    },
    {
      "cell_type": "markdown",
      "source": [
        "Berdasarkan 3 pengujian di atas dapat disimpulkan bahwa **vektor [1\\3] adalah eigen vektor dari [1 -1\\6 -4]** dengan **eigenvalue = -2**"
      ],
      "metadata": {
        "id": "XnZsh6gG11EC"
      }
    },
    {
      "cell_type": "code",
      "source": [
        ""
      ],
      "metadata": {
        "id": "3jLysqqq1y-f"
      },
      "execution_count": null,
      "outputs": []
    }
  ]
}